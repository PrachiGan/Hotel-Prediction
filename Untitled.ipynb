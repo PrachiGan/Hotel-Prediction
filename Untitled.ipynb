{
 "cells": [
  {
   "cell_type": "code",
   "execution_count": 1,
   "id": "2dfd01be",
   "metadata": {},
   "outputs": [
    {
     "name": "stdout",
     "output_type": "stream",
     "text": [
      "Overwriting app.py\n"
     ]
    }
   ],
   "source": [
    "%%writefile app.py\n",
    "\n",
    "import numpy as np\n",
    "import pandas as pd\n",
    "import streamlit as st\n",
    "import pickle \n",
    "\n",
    "with open('final_model.joblib','rb') as file:\n",
    "    model=joblib.load(file)\n",
    "    \n",
    "with open ('transformer.pkl','rb') as file:\n",
    "    transformer=pickle.load(file)\n",
    "    \n",
    "    \n",
    "def prediction(input_list):\n",
    "    input_list=np.array(input_list,dtype=object)\n",
    "    \n",
    "    pred=model.predict_proba([input_list])[:,1][0]\n",
    "    \n",
    "    if pred>0.5:\n",
    "        return f'This Booking is more likely to get cancelled, with chances {round(pred,2)}'\n",
    "    \n",
    "    else:\n",
    "        return f'This Booking is less likely to get cancelled, with chances {round(pred,2)}'\n",
    "    \n",
    "    \n",
    "def main():\n",
    "    st.title('INN HOTEL GROUP')\n",
    "    lt= st.text_input('Enter the Lead time in Days')\n",
    "    mkt= (lambda x:1 if x=='Online' else 0)(st.selectbox('How the booking was made',['Online','Offline']))\n",
    "    price= st.text_input('Enter the price of the room')\n",
    "    adult= st.selectbox('How many adults',[1,2,3,4])\n",
    "    arr_m= st.slider('What is the month of arrival?',min_value=1,max_value=12,step=1)\n",
    "    weekd_lambda=(lambda x: 0 if x=='Mon'else \n",
    "                  1 if x== 'Tue' else\n",
    "                 2 if x== 'Wed' else\n",
    "                 3 if x== 'Thur' else\n",
    "                 4 if x== 'Fri' else\n",
    "                 5 if x== 'Sat' else\n",
    "                 6 if x== 'Sun')\n",
    "    arr_w= weekd_lambda(st.selectbox('What is the weekday of arrival',['Mon','Tue','Wed','Thur','Fri','Sat','Sun']))\n",
    "    dep_w= weekd_lambda(st.selectbox('What is the weekday of arrival',['Mon','Tue','Wed','Thur','Fri','Sat','Sun']))\n",
    "    weekn= st.text_input('Enter the number of week nights in stay')\n",
    "    wkndn= st.text_input('Enter the number of weekend nights in stay')\n",
    "    totan= weekn + wkndn\n",
    "    park= (lambda x:1 if x=='Yes' else 0)(st.selectbox('Does customer need parking?',['Yes','No']))\n",
    "    spcl= st.selectbox('Special request required?',[0,1,2,3,4,5])\n",
    "    \n",
    "    lt_t,price_t=transformer.transform([[lt,price]])[0]\n",
    "    \n",
    "    inp_list=[lt_t,spcl,price_t,adult,wkndn,park,weekn,mkt,arr_m,arr_w,totan,dep_w]\n",
    "    \n",
    "    if st.button('Predict'):\n",
    "        response = prediction(inp_list)\n",
    "        st.success(response)\n",
    "        \n",
    "if __name__=='__main__':\n",
    "    main()"
   ]
  },
  {
   "cell_type": "code",
   "execution_count": null,
   "id": "eeebb345",
   "metadata": {},
   "outputs": [],
   "source": []
  }
 ],
 "metadata": {
  "kernelspec": {
   "display_name": "Python 3 (ipykernel)",
   "language": "python",
   "name": "python3"
  },
  "language_info": {
   "codemirror_mode": {
    "name": "ipython",
    "version": 3
   },
   "file_extension": ".py",
   "mimetype": "text/x-python",
   "name": "python",
   "nbconvert_exporter": "python",
   "pygments_lexer": "ipython3",
   "version": "3.9.7"
  }
 },
 "nbformat": 4,
 "nbformat_minor": 5
}
